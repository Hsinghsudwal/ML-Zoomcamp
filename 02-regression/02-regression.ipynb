{
 "cells": [
  {
   "cell_type": "code",
   "execution_count": 1,
   "id": "e8fc0c57-6431-40ec-866b-e1caebc86449",
   "metadata": {},
   "outputs": [],
   "source": [
    "import pandas as pd\n",
    "import numpy as np\n",
    "\n",
    "import seaborn as sns\n",
    "from matplotlib import pyplot as plt\n",
    "%matplotlib inline"
   ]
  },
  {
   "cell_type": "markdown",
   "id": "872c0100-1d41-4634-b773-8b2a9ea95655",
   "metadata": {},
   "source": [
    "### Dataset"
   ]
  },
  {
   "cell_type": "code",
   "execution_count": 2,
   "id": "2d239d71-17bd-4e67-b4d2-85631bfd32c2",
   "metadata": {},
   "outputs": [
    {
     "data": {
      "text/html": [
       "<div>\n",
       "<style scoped>\n",
       "    .dataframe tbody tr th:only-of-type {\n",
       "        vertical-align: middle;\n",
       "    }\n",
       "\n",
       "    .dataframe tbody tr th {\n",
       "        vertical-align: top;\n",
       "    }\n",
       "\n",
       "    .dataframe thead th {\n",
       "        text-align: right;\n",
       "    }\n",
       "</style>\n",
       "<table border=\"1\" class=\"dataframe\">\n",
       "  <thead>\n",
       "    <tr style=\"text-align: right;\">\n",
       "      <th></th>\n",
       "      <th>Laptop</th>\n",
       "      <th>Status</th>\n",
       "      <th>Brand</th>\n",
       "      <th>Model</th>\n",
       "      <th>CPU</th>\n",
       "      <th>RAM</th>\n",
       "      <th>Storage</th>\n",
       "      <th>Storage type</th>\n",
       "      <th>GPU</th>\n",
       "      <th>Screen</th>\n",
       "      <th>Touch</th>\n",
       "      <th>Final Price</th>\n",
       "    </tr>\n",
       "  </thead>\n",
       "  <tbody>\n",
       "    <tr>\n",
       "      <th>0</th>\n",
       "      <td>ASUS ExpertBook B1 B1502CBA-EJ0436X Intel Core...</td>\n",
       "      <td>New</td>\n",
       "      <td>Asus</td>\n",
       "      <td>ExpertBook</td>\n",
       "      <td>Intel Core i5</td>\n",
       "      <td>8</td>\n",
       "      <td>512</td>\n",
       "      <td>SSD</td>\n",
       "      <td>NaN</td>\n",
       "      <td>15.6</td>\n",
       "      <td>No</td>\n",
       "      <td>1009.00</td>\n",
       "    </tr>\n",
       "    <tr>\n",
       "      <th>1</th>\n",
       "      <td>Alurin Go Start Intel Celeron N4020/8GB/256GB ...</td>\n",
       "      <td>New</td>\n",
       "      <td>Alurin</td>\n",
       "      <td>Go</td>\n",
       "      <td>Intel Celeron</td>\n",
       "      <td>8</td>\n",
       "      <td>256</td>\n",
       "      <td>SSD</td>\n",
       "      <td>NaN</td>\n",
       "      <td>15.6</td>\n",
       "      <td>No</td>\n",
       "      <td>299.00</td>\n",
       "    </tr>\n",
       "    <tr>\n",
       "      <th>2</th>\n",
       "      <td>ASUS ExpertBook B1 B1502CBA-EJ0424X Intel Core...</td>\n",
       "      <td>New</td>\n",
       "      <td>Asus</td>\n",
       "      <td>ExpertBook</td>\n",
       "      <td>Intel Core i3</td>\n",
       "      <td>8</td>\n",
       "      <td>256</td>\n",
       "      <td>SSD</td>\n",
       "      <td>NaN</td>\n",
       "      <td>15.6</td>\n",
       "      <td>No</td>\n",
       "      <td>789.00</td>\n",
       "    </tr>\n",
       "    <tr>\n",
       "      <th>3</th>\n",
       "      <td>MSI Katana GF66 12UC-082XES Intel Core i7-1270...</td>\n",
       "      <td>New</td>\n",
       "      <td>MSI</td>\n",
       "      <td>Katana</td>\n",
       "      <td>Intel Core i7</td>\n",
       "      <td>16</td>\n",
       "      <td>1000</td>\n",
       "      <td>SSD</td>\n",
       "      <td>RTX 3050</td>\n",
       "      <td>15.6</td>\n",
       "      <td>No</td>\n",
       "      <td>1199.00</td>\n",
       "    </tr>\n",
       "    <tr>\n",
       "      <th>4</th>\n",
       "      <td>HP 15S-FQ5085NS Intel Core i5-1235U/16GB/512GB...</td>\n",
       "      <td>New</td>\n",
       "      <td>HP</td>\n",
       "      <td>15S</td>\n",
       "      <td>Intel Core i5</td>\n",
       "      <td>16</td>\n",
       "      <td>512</td>\n",
       "      <td>SSD</td>\n",
       "      <td>NaN</td>\n",
       "      <td>15.6</td>\n",
       "      <td>No</td>\n",
       "      <td>669.01</td>\n",
       "    </tr>\n",
       "  </tbody>\n",
       "</table>\n",
       "</div>"
      ],
      "text/plain": [
       "                                              Laptop Status   Brand  \\\n",
       "0  ASUS ExpertBook B1 B1502CBA-EJ0436X Intel Core...    New    Asus   \n",
       "1  Alurin Go Start Intel Celeron N4020/8GB/256GB ...    New  Alurin   \n",
       "2  ASUS ExpertBook B1 B1502CBA-EJ0424X Intel Core...    New    Asus   \n",
       "3  MSI Katana GF66 12UC-082XES Intel Core i7-1270...    New     MSI   \n",
       "4  HP 15S-FQ5085NS Intel Core i5-1235U/16GB/512GB...    New      HP   \n",
       "\n",
       "        Model            CPU  RAM  Storage Storage type       GPU  Screen  \\\n",
       "0  ExpertBook  Intel Core i5    8      512          SSD       NaN    15.6   \n",
       "1          Go  Intel Celeron    8      256          SSD       NaN    15.6   \n",
       "2  ExpertBook  Intel Core i3    8      256          SSD       NaN    15.6   \n",
       "3      Katana  Intel Core i7   16     1000          SSD  RTX 3050    15.6   \n",
       "4         15S  Intel Core i5   16      512          SSD       NaN    15.6   \n",
       "\n",
       "  Touch  Final Price  \n",
       "0    No      1009.00  \n",
       "1    No       299.00  \n",
       "2    No       789.00  \n",
       "3    No      1199.00  \n",
       "4    No       669.01  "
      ]
     },
     "execution_count": 2,
     "metadata": {},
     "output_type": "execute_result"
    }
   ],
   "source": [
    "url = 'https://raw.githubusercontent.com/alexeygrigorev/datasets/master/laptops.csv'\n",
    "\n",
    "data = pd.read_csv(url)\n",
    "data.head()"
   ]
  },
  {
   "cell_type": "code",
   "execution_count": 3,
   "id": "49a494ec-68a3-4f26-82f6-3c5321abc479",
   "metadata": {},
   "outputs": [],
   "source": [
    "### The goal is to create a regression model for predicting the prices (column `'Final Price'`)."
   ]
  },
  {
   "cell_type": "markdown",
   "id": "60739e3e-977b-49d4-841f-f0354c1f012e",
   "metadata": {},
   "source": [
    "### Preparing the dataset"
   ]
  },
  {
   "cell_type": "code",
   "execution_count": 4,
   "id": "8eaa0063-a7c0-4d41-a049-68bee557a8c7",
   "metadata": {},
   "outputs": [],
   "source": [
    "data.columns = data.columns.str.lower().str.replace(' ', '_')"
   ]
  },
  {
   "cell_type": "code",
   "execution_count": 5,
   "id": "37a2e88b-0a00-4c6b-b2a1-054fac833853",
   "metadata": {},
   "outputs": [
    {
     "data": {
      "text/plain": [
       "Index(['laptop', 'status', 'brand', 'model', 'cpu', 'ram', 'storage',\n",
       "       'storage_type', 'gpu', 'screen', 'touch', 'final_price'],\n",
       "      dtype='object')"
      ]
     },
     "execution_count": 5,
     "metadata": {},
     "output_type": "execute_result"
    }
   ],
   "source": [
    "data.columns"
   ]
  },
  {
   "cell_type": "code",
   "execution_count": 6,
   "id": "7cc4f0b2-8687-4554-8ff1-dae984359325",
   "metadata": {},
   "outputs": [
    {
     "data": {
      "text/html": [
       "<div>\n",
       "<style scoped>\n",
       "    .dataframe tbody tr th:only-of-type {\n",
       "        vertical-align: middle;\n",
       "    }\n",
       "\n",
       "    .dataframe tbody tr th {\n",
       "        vertical-align: top;\n",
       "    }\n",
       "\n",
       "    .dataframe thead th {\n",
       "        text-align: right;\n",
       "    }\n",
       "</style>\n",
       "<table border=\"1\" class=\"dataframe\">\n",
       "  <thead>\n",
       "    <tr style=\"text-align: right;\">\n",
       "      <th></th>\n",
       "      <th>laptop</th>\n",
       "      <th>status</th>\n",
       "      <th>brand</th>\n",
       "      <th>model</th>\n",
       "      <th>cpu</th>\n",
       "      <th>ram</th>\n",
       "      <th>storage</th>\n",
       "      <th>storage_type</th>\n",
       "      <th>gpu</th>\n",
       "      <th>screen</th>\n",
       "      <th>touch</th>\n",
       "      <th>final_price</th>\n",
       "    </tr>\n",
       "  </thead>\n",
       "  <tbody>\n",
       "    <tr>\n",
       "      <th>0</th>\n",
       "      <td>ASUS ExpertBook B1 B1502CBA-EJ0436X Intel Core...</td>\n",
       "      <td>New</td>\n",
       "      <td>Asus</td>\n",
       "      <td>ExpertBook</td>\n",
       "      <td>Intel Core i5</td>\n",
       "      <td>8</td>\n",
       "      <td>512</td>\n",
       "      <td>SSD</td>\n",
       "      <td>NaN</td>\n",
       "      <td>15.6</td>\n",
       "      <td>No</td>\n",
       "      <td>1009.00</td>\n",
       "    </tr>\n",
       "    <tr>\n",
       "      <th>1</th>\n",
       "      <td>Alurin Go Start Intel Celeron N4020/8GB/256GB ...</td>\n",
       "      <td>New</td>\n",
       "      <td>Alurin</td>\n",
       "      <td>Go</td>\n",
       "      <td>Intel Celeron</td>\n",
       "      <td>8</td>\n",
       "      <td>256</td>\n",
       "      <td>SSD</td>\n",
       "      <td>NaN</td>\n",
       "      <td>15.6</td>\n",
       "      <td>No</td>\n",
       "      <td>299.00</td>\n",
       "    </tr>\n",
       "    <tr>\n",
       "      <th>2</th>\n",
       "      <td>ASUS ExpertBook B1 B1502CBA-EJ0424X Intel Core...</td>\n",
       "      <td>New</td>\n",
       "      <td>Asus</td>\n",
       "      <td>ExpertBook</td>\n",
       "      <td>Intel Core i3</td>\n",
       "      <td>8</td>\n",
       "      <td>256</td>\n",
       "      <td>SSD</td>\n",
       "      <td>NaN</td>\n",
       "      <td>15.6</td>\n",
       "      <td>No</td>\n",
       "      <td>789.00</td>\n",
       "    </tr>\n",
       "    <tr>\n",
       "      <th>3</th>\n",
       "      <td>MSI Katana GF66 12UC-082XES Intel Core i7-1270...</td>\n",
       "      <td>New</td>\n",
       "      <td>MSI</td>\n",
       "      <td>Katana</td>\n",
       "      <td>Intel Core i7</td>\n",
       "      <td>16</td>\n",
       "      <td>1000</td>\n",
       "      <td>SSD</td>\n",
       "      <td>RTX 3050</td>\n",
       "      <td>15.6</td>\n",
       "      <td>No</td>\n",
       "      <td>1199.00</td>\n",
       "    </tr>\n",
       "    <tr>\n",
       "      <th>4</th>\n",
       "      <td>HP 15S-FQ5085NS Intel Core i5-1235U/16GB/512GB...</td>\n",
       "      <td>New</td>\n",
       "      <td>HP</td>\n",
       "      <td>15S</td>\n",
       "      <td>Intel Core i5</td>\n",
       "      <td>16</td>\n",
       "      <td>512</td>\n",
       "      <td>SSD</td>\n",
       "      <td>NaN</td>\n",
       "      <td>15.6</td>\n",
       "      <td>No</td>\n",
       "      <td>669.01</td>\n",
       "    </tr>\n",
       "  </tbody>\n",
       "</table>\n",
       "</div>"
      ],
      "text/plain": [
       "                                              laptop status   brand  \\\n",
       "0  ASUS ExpertBook B1 B1502CBA-EJ0436X Intel Core...    New    Asus   \n",
       "1  Alurin Go Start Intel Celeron N4020/8GB/256GB ...    New  Alurin   \n",
       "2  ASUS ExpertBook B1 B1502CBA-EJ0424X Intel Core...    New    Asus   \n",
       "3  MSI Katana GF66 12UC-082XES Intel Core i7-1270...    New     MSI   \n",
       "4  HP 15S-FQ5085NS Intel Core i5-1235U/16GB/512GB...    New      HP   \n",
       "\n",
       "        model            cpu  ram  storage storage_type       gpu  screen  \\\n",
       "0  ExpertBook  Intel Core i5    8      512          SSD       NaN    15.6   \n",
       "1          Go  Intel Celeron    8      256          SSD       NaN    15.6   \n",
       "2  ExpertBook  Intel Core i3    8      256          SSD       NaN    15.6   \n",
       "3      Katana  Intel Core i7   16     1000          SSD  RTX 3050    15.6   \n",
       "4         15S  Intel Core i5   16      512          SSD       NaN    15.6   \n",
       "\n",
       "  touch  final_price  \n",
       "0    No      1009.00  \n",
       "1    No       299.00  \n",
       "2    No       789.00  \n",
       "3    No      1199.00  \n",
       "4    No       669.01  "
      ]
     },
     "execution_count": 6,
     "metadata": {},
     "output_type": "execute_result"
    }
   ],
   "source": [
    "data.head()"
   ]
  },
  {
   "cell_type": "code",
   "execution_count": 7,
   "id": "974d9a32-a785-41e6-bc6a-21b13c600393",
   "metadata": {},
   "outputs": [],
   "source": [
    "cols = ['ram', 'storage', 'screen', 'final_price']"
   ]
  },
  {
   "cell_type": "code",
   "execution_count": 8,
   "id": "106df13f-eef7-4477-8f86-d52b7265cec7",
   "metadata": {},
   "outputs": [
    {
     "data": {
      "text/html": [
       "<div>\n",
       "<style scoped>\n",
       "    .dataframe tbody tr th:only-of-type {\n",
       "        vertical-align: middle;\n",
       "    }\n",
       "\n",
       "    .dataframe tbody tr th {\n",
       "        vertical-align: top;\n",
       "    }\n",
       "\n",
       "    .dataframe thead th {\n",
       "        text-align: right;\n",
       "    }\n",
       "</style>\n",
       "<table border=\"1\" class=\"dataframe\">\n",
       "  <thead>\n",
       "    <tr style=\"text-align: right;\">\n",
       "      <th></th>\n",
       "      <th>ram</th>\n",
       "      <th>storage</th>\n",
       "      <th>screen</th>\n",
       "      <th>final_price</th>\n",
       "    </tr>\n",
       "  </thead>\n",
       "  <tbody>\n",
       "    <tr>\n",
       "      <th>0</th>\n",
       "      <td>8</td>\n",
       "      <td>512</td>\n",
       "      <td>15.6</td>\n",
       "      <td>1009.00</td>\n",
       "    </tr>\n",
       "    <tr>\n",
       "      <th>1</th>\n",
       "      <td>8</td>\n",
       "      <td>256</td>\n",
       "      <td>15.6</td>\n",
       "      <td>299.00</td>\n",
       "    </tr>\n",
       "    <tr>\n",
       "      <th>2</th>\n",
       "      <td>8</td>\n",
       "      <td>256</td>\n",
       "      <td>15.6</td>\n",
       "      <td>789.00</td>\n",
       "    </tr>\n",
       "    <tr>\n",
       "      <th>3</th>\n",
       "      <td>16</td>\n",
       "      <td>1000</td>\n",
       "      <td>15.6</td>\n",
       "      <td>1199.00</td>\n",
       "    </tr>\n",
       "    <tr>\n",
       "      <th>4</th>\n",
       "      <td>16</td>\n",
       "      <td>512</td>\n",
       "      <td>15.6</td>\n",
       "      <td>669.01</td>\n",
       "    </tr>\n",
       "    <tr>\n",
       "      <th>...</th>\n",
       "      <td>...</td>\n",
       "      <td>...</td>\n",
       "      <td>...</td>\n",
       "      <td>...</td>\n",
       "    </tr>\n",
       "    <tr>\n",
       "      <th>2155</th>\n",
       "      <td>16</td>\n",
       "      <td>1000</td>\n",
       "      <td>17.3</td>\n",
       "      <td>2699.99</td>\n",
       "    </tr>\n",
       "    <tr>\n",
       "      <th>2156</th>\n",
       "      <td>16</td>\n",
       "      <td>1000</td>\n",
       "      <td>17.3</td>\n",
       "      <td>2899.99</td>\n",
       "    </tr>\n",
       "    <tr>\n",
       "      <th>2157</th>\n",
       "      <td>32</td>\n",
       "      <td>1000</td>\n",
       "      <td>17.3</td>\n",
       "      <td>3399.99</td>\n",
       "    </tr>\n",
       "    <tr>\n",
       "      <th>2158</th>\n",
       "      <td>16</td>\n",
       "      <td>1000</td>\n",
       "      <td>13.4</td>\n",
       "      <td>1899.99</td>\n",
       "    </tr>\n",
       "    <tr>\n",
       "      <th>2159</th>\n",
       "      <td>16</td>\n",
       "      <td>256</td>\n",
       "      <td>13.4</td>\n",
       "      <td>1699.99</td>\n",
       "    </tr>\n",
       "  </tbody>\n",
       "</table>\n",
       "<p>2160 rows × 4 columns</p>\n",
       "</div>"
      ],
      "text/plain": [
       "      ram  storage  screen  final_price\n",
       "0       8      512    15.6      1009.00\n",
       "1       8      256    15.6       299.00\n",
       "2       8      256    15.6       789.00\n",
       "3      16     1000    15.6      1199.00\n",
       "4      16      512    15.6       669.01\n",
       "...   ...      ...     ...          ...\n",
       "2155   16     1000    17.3      2699.99\n",
       "2156   16     1000    17.3      2899.99\n",
       "2157   32     1000    17.3      3399.99\n",
       "2158   16     1000    13.4      1899.99\n",
       "2159   16      256    13.4      1699.99\n",
       "\n",
       "[2160 rows x 4 columns]"
      ]
     },
     "execution_count": 8,
     "metadata": {},
     "output_type": "execute_result"
    }
   ],
   "source": [
    "df_col = data[cols]\n",
    "df_col"
   ]
  },
  {
   "cell_type": "code",
   "execution_count": 9,
   "id": "db3e25bb-78b1-46d8-be97-6a37d84a624d",
   "metadata": {},
   "outputs": [
    {
     "name": "stdout",
     "output_type": "stream",
     "text": [
      "ram\n",
      "[ 8 16 32 12  4]\n",
      "9\n",
      "\n",
      "storage\n",
      "[ 512  256 1000   64  128]\n",
      "12\n",
      "\n",
      "screen\n",
      "[15.6 17.3 14.  16.1 13.3]\n",
      "29\n",
      "\n",
      "final_price\n",
      "[1009.    299.    789.   1199.    669.01]\n",
      "1440\n",
      "\n"
     ]
    }
   ],
   "source": [
    "for col in cols:\n",
    "    print(col)\n",
    "    print(df_col[col].unique()[:5])\n",
    "    print(df_col[col].nunique())\n",
    "    print()"
   ]
  },
  {
   "cell_type": "markdown",
   "id": "9dd9a006-006f-4f4c-bb8a-85515ddf9c48",
   "metadata": {},
   "source": [
    "### EDA"
   ]
  },
  {
   "cell_type": "code",
   "execution_count": 10,
   "id": "94013d40-bb6c-4360-9ab7-d10297bc1bcb",
   "metadata": {},
   "outputs": [
    {
     "data": {
      "image/png": "[encoded data removed]",
      "text/plain": [
       "<Figure size 640x480 with 1 Axes>"
      ]
     },
     "metadata": {},
     "output_type": "display_data"
    }
   ],
   "source": [
    "_ = sns.histplot(df_col.final_price, bins=50)"
   ]
  },
  {
   "cell_type": "code",
   "execution_count": 11,
   "id": "eff1c5f0-9242-4b8c-8419-6db03e026576",
   "metadata": {},
   "outputs": [],
   "source": [
    "### - doest have tail"
   ]
  },
  {
   "cell_type": "markdown",
   "id": "19d7095f-1636-4b13-9e01-e514414577b4",
   "metadata": {},
   "source": [
    "### Question 1"
   ]
  },
  {
   "cell_type": "code",
   "execution_count": 12,
   "id": "bc395410-2a07-492e-93d1-92cab84638bc",
   "metadata": {},
   "outputs": [
    {
     "data": {
      "text/plain": [
       "ram            0\n",
       "storage        0\n",
       "screen         4\n",
       "final_price    0\n",
       "dtype: int64"
      ]
     },
     "execution_count": 12,
     "metadata": {},
     "output_type": "execute_result"
    }
   ],
   "source": [
    "df_col.isnull().sum()"
   ]
  },
  {
   "cell_type": "markdown",
   "id": "d891c16a-8b76-4498-a563-6fd571756960",
   "metadata": {},
   "source": [
    "### Question 2"
   ]
  },
  {
   "cell_type": "code",
   "execution_count": 13,
   "id": "6639f1ac-1715-4372-a872-229ba2d44c8a",
   "metadata": {},
   "outputs": [
    {
     "data": {
      "text/plain": [
       "count    2160.000000\n",
       "mean       15.413889\n",
       "std         9.867815\n",
       "min         4.000000\n",
       "25%         8.000000\n",
       "50%        16.000000\n",
       "75%        16.000000\n",
       "max       128.000000\n",
       "Name: ram, dtype: float64"
      ]
     },
     "execution_count": 13,
     "metadata": {},
     "output_type": "execute_result"
    }
   ],
   "source": [
    "# What's the median (50% percentile) for variable `'ram'`?\n",
    "df_col.ram.describe()"
   ]
  },
  {
   "cell_type": "code",
   "execution_count": 14,
   "id": "99a901b0-a107-4a60-80d2-be3e5d122408",
   "metadata": {},
   "outputs": [
    {
     "data": {
      "text/plain": [
       "16.0"
      ]
     },
     "execution_count": 14,
     "metadata": {},
     "output_type": "execute_result"
    }
   ],
   "source": [
    "df_col.ram.median()"
   ]
  },
  {
   "cell_type": "markdown",
   "id": "a7922b20-4092-46ba-842b-8c73bcef91f6",
   "metadata": {},
   "source": [
    "### Prepare and split the dataset"
   ]
  },
  {
   "cell_type": "code",
   "execution_count": 15,
   "id": "fc59a067-9dd2-4090-b8dc-bc58d89b2aa8",
   "metadata": {},
   "outputs": [],
   "source": [
    "n = len(df_col)\n",
    "\n",
    "n_test = int(n*0.2)\n",
    "n_val = int(n*0.2)\n",
    "n_train = n - n_test - n_val\n"
   ]
  },
  {
   "cell_type": "code",
   "execution_count": 16,
   "id": "7e262634-9cfb-42ee-87c0-967d4cc8ff21",
   "metadata": {},
   "outputs": [
    {
     "data": {
      "text/plain": [
       "(2160, 2160)"
      ]
     },
     "execution_count": 16,
     "metadata": {},
     "output_type": "execute_result"
    }
   ],
   "source": [
    "n,n_val + n_test + n_train"
   ]
  },
  {
   "cell_type": "code",
   "execution_count": 17,
   "id": "6c2c7b71-5e86-491a-a463-8efacd6a68bd",
   "metadata": {},
   "outputs": [
    {
     "data": {
      "text/plain": [
       "array([   0,    1,    2, ..., 2157, 2158, 2159])"
      ]
     },
     "execution_count": 17,
     "metadata": {},
     "output_type": "execute_result"
    }
   ],
   "source": [
    "# shuffle\n",
    "\n",
    "idx = np.arange(n)\n",
    "idx"
   ]
  },
  {
   "cell_type": "code",
   "execution_count": 18,
   "id": "6959bc38-9cb2-4fde-9810-cfe9efd3a80b",
   "metadata": {},
   "outputs": [
    {
     "data": {
      "text/plain": [
       "array([2079,  668, 2073, ..., 1130, 1294,  860])"
      ]
     },
     "execution_count": 18,
     "metadata": {},
     "output_type": "execute_result"
    }
   ],
   "source": [
    "#seed\n",
    "\n",
    "np.random.seed(42)\n",
    "np.random.shuffle(idx)\n",
    "idx"
   ]
  },
  {
   "cell_type": "code",
   "execution_count": 19,
   "id": "0cca91d3-62d7-48b1-a586-d6a876e297a0",
   "metadata": {},
   "outputs": [
    {
     "data": {
      "text/plain": [
       "(2160, 2160)"
      ]
     },
     "execution_count": 19,
     "metadata": {},
     "output_type": "execute_result"
    }
   ],
   "source": [
    "df_train = df_col.iloc[idx[:n_train]]\n",
    "df_val = df_col.iloc[idx[n_train: n_train + n_val]]\n",
    "df_test = df_col.iloc[idx[n_train+n_val:]]\n",
    "len(df_col), len(df_train) + len(df_val) + len(df_test)"
   ]
  },
  {
   "cell_type": "code",
   "execution_count": 20,
   "id": "56807e02-7b83-4e9b-bb68-0ae14b7b90d5",
   "metadata": {},
   "outputs": [],
   "source": [
    "df_train = df_train.reset_index(drop = True)\n",
    "df_val = df_val.reset_index(drop = True)\n",
    "df_test = df_test.reset_index(drop = True)"
   ]
  },
  {
   "cell_type": "code",
   "execution_count": 21,
   "id": "07017f1a-ef32-43e9-a97c-0a4f05f99c2e",
   "metadata": {},
   "outputs": [
    {
     "data": {
      "text/html": [
       "<div>\n",
       "<style scoped>\n",
       "    .dataframe tbody tr th:only-of-type {\n",
       "        vertical-align: middle;\n",
       "    }\n",
       "\n",
       "    .dataframe tbody tr th {\n",
       "        vertical-align: top;\n",
       "    }\n",
       "\n",
       "    .dataframe thead th {\n",
       "        text-align: right;\n",
       "    }\n",
       "</style>\n",
       "<table border=\"1\" class=\"dataframe\">\n",
       "  <thead>\n",
       "    <tr style=\"text-align: right;\">\n",
       "      <th></th>\n",
       "      <th>ram</th>\n",
       "      <th>storage</th>\n",
       "      <th>screen</th>\n",
       "      <th>final_price</th>\n",
       "    </tr>\n",
       "  </thead>\n",
       "  <tbody>\n",
       "    <tr>\n",
       "      <th>0</th>\n",
       "      <td>32</td>\n",
       "      <td>1000</td>\n",
       "      <td>16.0</td>\n",
       "      <td>2599.00</td>\n",
       "    </tr>\n",
       "    <tr>\n",
       "      <th>1</th>\n",
       "      <td>16</td>\n",
       "      <td>512</td>\n",
       "      <td>15.6</td>\n",
       "      <td>999.00</td>\n",
       "    </tr>\n",
       "    <tr>\n",
       "      <th>2</th>\n",
       "      <td>12</td>\n",
       "      <td>512</td>\n",
       "      <td>15.6</td>\n",
       "      <td>477.28</td>\n",
       "    </tr>\n",
       "    <tr>\n",
       "      <th>3</th>\n",
       "      <td>8</td>\n",
       "      <td>256</td>\n",
       "      <td>13.6</td>\n",
       "      <td>1519.00</td>\n",
       "    </tr>\n",
       "    <tr>\n",
       "      <th>4</th>\n",
       "      <td>8</td>\n",
       "      <td>512</td>\n",
       "      <td>15.6</td>\n",
       "      <td>402.99</td>\n",
       "    </tr>\n",
       "    <tr>\n",
       "      <th>...</th>\n",
       "      <td>...</td>\n",
       "      <td>...</td>\n",
       "      <td>...</td>\n",
       "      <td>...</td>\n",
       "    </tr>\n",
       "    <tr>\n",
       "      <th>427</th>\n",
       "      <td>8</td>\n",
       "      <td>128</td>\n",
       "      <td>13.0</td>\n",
       "      <td>1049.00</td>\n",
       "    </tr>\n",
       "    <tr>\n",
       "      <th>428</th>\n",
       "      <td>8</td>\n",
       "      <td>256</td>\n",
       "      <td>13.3</td>\n",
       "      <td>799.00</td>\n",
       "    </tr>\n",
       "    <tr>\n",
       "      <th>429</th>\n",
       "      <td>8</td>\n",
       "      <td>512</td>\n",
       "      <td>14.0</td>\n",
       "      <td>565.54</td>\n",
       "    </tr>\n",
       "    <tr>\n",
       "      <th>430</th>\n",
       "      <td>16</td>\n",
       "      <td>512</td>\n",
       "      <td>14.0</td>\n",
       "      <td>738.00</td>\n",
       "    </tr>\n",
       "    <tr>\n",
       "      <th>431</th>\n",
       "      <td>4</td>\n",
       "      <td>64</td>\n",
       "      <td>14.0</td>\n",
       "      <td>452.00</td>\n",
       "    </tr>\n",
       "  </tbody>\n",
       "</table>\n",
       "<p>432 rows × 4 columns</p>\n",
       "</div>"
      ],
      "text/plain": [
       "     ram  storage  screen  final_price\n",
       "0     32     1000    16.0      2599.00\n",
       "1     16      512    15.6       999.00\n",
       "2     12      512    15.6       477.28\n",
       "3      8      256    13.6      1519.00\n",
       "4      8      512    15.6       402.99\n",
       "..   ...      ...     ...          ...\n",
       "427    8      128    13.0      1049.00\n",
       "428    8      256    13.3       799.00\n",
       "429    8      512    14.0       565.54\n",
       "430   16      512    14.0       738.00\n",
       "431    4       64    14.0       452.00\n",
       "\n",
       "[432 rows x 4 columns]"
      ]
     },
     "execution_count": 21,
     "metadata": {},
     "output_type": "execute_result"
    }
   ],
   "source": [
    "df_val"
   ]
  },
  {
   "cell_type": "code",
   "execution_count": 22,
   "id": "17d43213-c5f7-430e-998d-f5bec076fc9b",
   "metadata": {},
   "outputs": [],
   "source": [
    "y_train = df_train.final_price\n",
    "y_val = df_val.final_price\n",
    "y_test = df_test.final_price"
   ]
  },
  {
   "cell_type": "code",
   "execution_count": 23,
   "id": "34e06001-507d-499f-9c7c-87a23022cf4f",
   "metadata": {},
   "outputs": [
    {
     "data": {
      "text/plain": [
       "0      2599.00\n",
       "1       999.00\n",
       "2       477.28\n",
       "3      1519.00\n",
       "4       402.99\n",
       "        ...   \n",
       "427    1049.00\n",
       "428     799.00\n",
       "429     565.54\n",
       "430     738.00\n",
       "431     452.00\n",
       "Name: final_price, Length: 432, dtype: float64"
      ]
     },
     "execution_count": 23,
     "metadata": {},
     "output_type": "execute_result"
    }
   ],
   "source": [
    "y_val"
   ]
  },
  {
   "cell_type": "code",
   "execution_count": 24,
   "id": "f4741b76-38bf-4fc4-bc72-68e3d193683a",
   "metadata": {},
   "outputs": [],
   "source": [
    "del df_train['final_price']\n",
    "del df_val['final_price']\n",
    "del df_test['final_price']"
   ]
  },
  {
   "cell_type": "markdown",
   "id": "eda5fa02-3d82-4ef4-8ecd-0aa71c74c1a2",
   "metadata": {},
   "source": [
    "### Question 3"
   ]
  },
  {
   "cell_type": "code",
   "execution_count": 25,
   "id": "ba3dfdd3-9177-4681-b813-d9c19165cd14",
   "metadata": {},
   "outputs": [
    {
     "data": {
      "text/plain": [
       "ram        0\n",
       "storage    0\n",
       "screen     3\n",
       "dtype: int64"
      ]
     },
     "execution_count": 25,
     "metadata": {},
     "output_type": "execute_result"
    }
   ],
   "source": [
    "# filling nan value with 0\n",
    "df_train_0 = df_train.copy()\n",
    "\n",
    "df_train_0.columns\n",
    "df_train_0.isnull().sum()"
   ]
  },
  {
   "cell_type": "code",
   "execution_count": 26,
   "id": "ef8f58a1-a9ca-44e2-8f79-f6483167247a",
   "metadata": {},
   "outputs": [
    {
     "data": {
      "text/plain": [
       "ram        0\n",
       "storage    0\n",
       "screen     0\n",
       "dtype: int64"
      ]
     },
     "execution_count": 26,
     "metadata": {},
     "output_type": "execute_result"
    }
   ],
   "source": [
    "df_train_0.fillna(0).isnull().sum()"
   ]
  },
  {
   "cell_type": "code",
   "execution_count": 27,
   "id": "bfe8847d-c574-4b98-a53e-70dee2b5cf39",
   "metadata": {},
   "outputs": [],
   "source": [
    "X_train = df_train_0.fillna(0).values"
   ]
  },
  {
   "cell_type": "code",
   "execution_count": 28,
   "id": "9d600190-bcaa-4551-a163-70cfbb788e21",
   "metadata": {},
   "outputs": [],
   "source": [
    "def train_linear_regression(X, y):\n",
    "    ones = np.ones(X.shape[0])\n",
    "    X = np.column_stack([ones, X])\n",
    "\n",
    "    XTX = X.T.dot(X) # gram matrix\n",
    "    XTX_inv = np.linalg.inv(XTX)\n",
    "    w_full = XTX_inv.dot(X.T).dot(y)\n",
    "\n",
    "\n",
    "    return w_full[0], w_full[1:]"
   ]
  },
  {
   "cell_type": "code",
   "execution_count": 29,
   "id": "f0f7d04d-a56d-4c76-935e-5b7f00d8ae58",
   "metadata": {},
   "outputs": [],
   "source": [
    "def rmse(y, y_pred):\n",
    "    se = (y - y_pred)**2\n",
    "    mse = se.mean()\n",
    "    return np.sqrt(mse)"
   ]
  },
  {
   "cell_type": "code",
   "execution_count": 30,
   "id": "3577e585-3a20-4718-8312-acaf6c706f55",
   "metadata": {},
   "outputs": [],
   "source": [
    "w0, w = train_linear_regression(X_train, y_train)"
   ]
  },
  {
   "cell_type": "code",
   "execution_count": 31,
   "id": "68e26ce7-eb5f-403c-9f67-b21f37205f5d",
   "metadata": {},
   "outputs": [],
   "source": [
    "y_pred = w0 + X_train.dot(w)"
   ]
  },
  {
   "cell_type": "code",
   "execution_count": 32,
   "id": "d0614b7e-ada7-4cb0-88d0-acec5491f6af",
   "metadata": {},
   "outputs": [
    {
     "data": {
      "image/png": "[encoded data removed]",
      "text/plain": [
       "<Figure size 640x480 with 1 Axes>"
      ]
     },
     "metadata": {},
     "output_type": "display_data"
    }
   ],
   "source": [
    "sns.histplot(y_pred, color = 'red', alpha = 0.5, bins = 50, label = 'prediction')\n",
    "sns.histplot(y_train, color = 'blue', alpha = 0.5, bins = 50, label = 'target')\n",
    "plt.legend()\n",
    "plt.show()"
   ]
  },
  {
   "cell_type": "code",
   "execution_count": 33,
   "id": "20e5066f-bad0-452f-9bb9-7681f12a1858",
   "metadata": {},
   "outputs": [
    {
     "data": {
      "text/plain": [
       "602.39"
      ]
     },
     "execution_count": 33,
     "metadata": {},
     "output_type": "execute_result"
    }
   ],
   "source": [
    "score_0 = round(rmse(y_train, y_pred), 2)\n",
    "score_0"
   ]
  },
  {
   "cell_type": "code",
   "execution_count": 34,
   "id": "44debe60-0aac-4689-8d7e-1f9bdc46c8a0",
   "metadata": {},
   "outputs": [
    {
     "data": {
      "text/plain": [
       "ram        0\n",
       "storage    0\n",
       "screen     3\n",
       "dtype: int64"
      ]
     },
     "execution_count": 34,
     "metadata": {},
     "output_type": "execute_result"
    }
   ],
   "source": [
    "# filling nan value with mean\n",
    "df_train_mean = df_train.copy()\n",
    "\n",
    "df_train_mean.columns\n",
    "df_train_mean.isnull().sum()"
   ]
  },
  {
   "cell_type": "code",
   "execution_count": 35,
   "id": "0e83d646-94f4-4b71-bd00-8c6e25a2863e",
   "metadata": {},
   "outputs": [
    {
     "data": {
      "text/plain": [
       "ram        0\n",
       "storage    0\n",
       "screen     0\n",
       "dtype: int64"
      ]
     },
     "execution_count": 35,
     "metadata": {},
     "output_type": "execute_result"
    }
   ],
   "source": [
    "df_train_mean['screen'] = df_train_mean['screen'].fillna(df_train_mean['screen'].mean())\n",
    "df_train_mean.isnull().sum()"
   ]
  },
  {
   "cell_type": "code",
   "execution_count": 36,
   "id": "9c47b4e4-f678-4695-a4a9-7cd385dbd6d5",
   "metadata": {},
   "outputs": [],
   "source": [
    "X_train_mean = df_train_mean.values"
   ]
  },
  {
   "cell_type": "code",
   "execution_count": 37,
   "id": "320222b7-8904-4e4c-942f-b8339221682c",
   "metadata": {},
   "outputs": [],
   "source": [
    "w0, w = train_linear_regression(X_train_mean, y_train)"
   ]
  },
  {
   "cell_type": "code",
   "execution_count": 38,
   "id": "98977e03-d061-46cb-ba0b-47edb42713ea",
   "metadata": {},
   "outputs": [],
   "source": [
    "y_pred_mean = w0 + X_train_mean.dot(w)"
   ]
  },
  {
   "cell_type": "code",
   "execution_count": 39,
   "id": "6d0a0a15-b86e-405d-8530-9bbdb7fe7f25",
   "metadata": {},
   "outputs": [
    {
     "data": {
      "text/plain": [
       "602.18"
      ]
     },
     "execution_count": 39,
     "metadata": {},
     "output_type": "execute_result"
    }
   ],
   "source": [
    "score_mean = round(rmse(y_train, y_pred_mean), 2)\n",
    "score_mean"
   ]
  },
  {
   "cell_type": "markdown",
   "id": "91730c5a-a8da-46f0-8832-10a8c0f8d1a6",
   "metadata": {},
   "source": [
    "### Question 4"
   ]
  },
  {
   "cell_type": "code",
   "execution_count": 40,
   "id": "173aee70-a150-4224-bbb4-d81af75c3f34",
   "metadata": {},
   "outputs": [],
   "source": [
    "def train_linear_regression_reg(X, y, r = 0.001):\n",
    "    ones = np.ones(X.shape[0])\n",
    "    X = np.column_stack([ones, X])\n",
    "\n",
    "    XTX = X.T.dot(X)\n",
    "    XTX = XTX + r*np.eye(XTX.shape[0])\n",
    "    XTX_inv = np.linalg.inv(XTX)\n",
    "    w_full = XTX_inv.dot(X.T).dot(y)\n",
    "\n",
    "\n",
    "    return w_full[0], w_full[1:]\n"
   ]
  },
  {
   "cell_type": "code",
   "execution_count": 41,
   "id": "00279512-15cc-4ab6-b82a-2675e17964b0",
   "metadata": {},
   "outputs": [
    {
     "name": "stdout",
     "output_type": "stream",
     "text": [
      "0 597.36\n",
      "0.01 597.36\n",
      "0.1 597.35\n",
      "1 597.21\n",
      "5 597.01\n",
      "10 597.06\n",
      "100 597.9\n"
     ]
    }
   ],
   "source": [
    "for r in [0, 0.01, 0.1, 1, 5, 10, 100]:\n",
    "\n",
    "    X_train = df_train.fillna(0).values\n",
    "    w0, w = train_linear_regression_reg(X_train, y_train, r = r)\n",
    "    \n",
    "    X_val =  df_val.fillna(0).values\n",
    "    y_pred = w0 + X_val.dot(w)\n",
    "    score = rmse(y_val, y_pred)\n",
    "    print(r, round(score,2))"
   ]
  },
  {
   "cell_type": "markdown",
   "id": "fafe7b56-fef6-467f-8cb8-de57654395d9",
   "metadata": {},
   "source": [
    "### Question 5 "
   ]
  },
  {
   "cell_type": "code",
   "execution_count": 42,
   "id": "265bcae4-b6b0-4a60-8baf-075b1daac27e",
   "metadata": {},
   "outputs": [
    {
     "name": "stdout",
     "output_type": "stream",
     "text": [
      "0 565.45\n",
      "1 636.8\n",
      "2 588.96\n",
      "3 597.81\n",
      "4 571.96\n",
      "5 573.24\n",
      "6 647.34\n",
      "7 550.44\n",
      "8 587.33\n",
      "9 576.1\n",
      "The value of std: 29.176\n"
     ]
    }
   ],
   "source": [
    "seeds = [0, 1, 2, 3, 4, 5, 6, 7, 8, 9]\n",
    "scores = []\n",
    "\n",
    "for seed in seeds:\n",
    "    idx = np.arange(n)\n",
    "    np.random.seed(seed)\n",
    "    np.random.shuffle(idx)\n",
    "    df_train = df_col.iloc[idx[:n_train]]\n",
    "    df_val = df_col.iloc[idx[n_train: n_train + n_val]]\n",
    "    df_test = df_col.iloc[idx[n_train+n_val:]]\n",
    "    \n",
    "    df_train = df_train.reset_index(drop = True)\n",
    "    df_val = df_val.reset_index(drop = True)\n",
    "    df_test = df_test.reset_index(drop = True)\n",
    "    \n",
    "    y_train = df_train.final_price\n",
    "    y_val = df_val.final_price\n",
    "    y_test = df_test.final_price\n",
    "    \n",
    "    del df_train['final_price']\n",
    "    del df_val['final_price']\n",
    "    del df_test['final_price']\n",
    "    X_train = df_train.fillna(0).values\n",
    "    w0, w = train_linear_regression(X_train, y_train)\n",
    "    \n",
    "    X_val =  df_val.fillna(0).values\n",
    "    y_pred = w0 + X_val.dot(w)\n",
    "    score = rmse(y_val, y_pred)\n",
    "    scores.append(score)\n",
    "    print(seed, round(score,2))\n",
    "\n",
    "std_scores = np.std(scores)\n",
    "print(f'The value of std: {round(std_scores, 3)}')"
   ]
  },
  {
   "cell_type": "markdown",
   "id": "68436db6-4028-481d-aeb3-399c3f6c5e0b",
   "metadata": {},
   "source": [
    "### Question 6"
   ]
  },
  {
   "cell_type": "code",
   "execution_count": 43,
   "id": "c0fb4ebd-91ba-429b-aed3-772b610fe0be",
   "metadata": {},
   "outputs": [],
   "source": [
    "idx = np.arange(n)\n",
    "np.random.seed(9)\n",
    "np.random.shuffle(idx)"
   ]
  },
  {
   "cell_type": "code",
   "execution_count": 44,
   "id": "f3c565ac-6b52-4063-aa61-ea7b8c135c1b",
   "metadata": {},
   "outputs": [],
   "source": [
    "df_col = data[cols]\n",
    "df_train = df_col.iloc[idx[:n_train]]\n",
    "df_val = df_col.iloc[idx[n_train: n_train + n_val]]\n",
    "df_test = df_col.iloc[idx[n_train+n_val:]]"
   ]
  },
  {
   "cell_type": "code",
   "execution_count": 45,
   "id": "cf740d0c-33fd-44b6-9378-a42533a47783",
   "metadata": {},
   "outputs": [],
   "source": [
    "y_train = df_train.final_price\n",
    "y_val = df_val.final_price\n",
    "y_test = df_test.final_price\n",
    "\n",
    "del df_train['final_price']\n",
    "del df_val['final_price']\n",
    "del df_test['final_price']"
   ]
  },
  {
   "cell_type": "code",
   "execution_count": 46,
   "id": "40f0e6cb-c703-43d5-a820-03b167afa67f",
   "metadata": {},
   "outputs": [],
   "source": [
    "df_full_train = pd.concat([df_train, df_val])\n",
    "df_full_train = df_full_train.reset_index(drop = True)\n",
    "df_test = df_test.reset_index(drop = True)"
   ]
  },
  {
   "cell_type": "code",
   "execution_count": 47,
   "id": "5828faa9-796e-4a50-bd86-bb5327719b8f",
   "metadata": {},
   "outputs": [],
   "source": [
    "X_full_train = df_full_train.fillna(0).values"
   ]
  },
  {
   "cell_type": "code",
   "execution_count": 48,
   "id": "ed02a083-e9c8-45ce-bfc6-a17217d8bb9f",
   "metadata": {},
   "outputs": [],
   "source": [
    "y_full_train = np.concatenate([y_train, y_val])"
   ]
  },
  {
   "cell_type": "code",
   "execution_count": 49,
   "id": "cf7a0735-9162-42a4-8401-609157f2260e",
   "metadata": {},
   "outputs": [],
   "source": [
    "w0, w = train_linear_regression_reg(X_full_train, y_full_train, r = 0.001)"
   ]
  },
  {
   "cell_type": "code",
   "execution_count": 50,
   "id": "b049de95-7528-47db-bf51-fb6d41eff557",
   "metadata": {},
   "outputs": [
    {
     "data": {
      "text/plain": [
       "608.6099822049533"
      ]
     },
     "execution_count": 50,
     "metadata": {},
     "output_type": "execute_result"
    }
   ],
   "source": [
    "X_test = df_test.fillna(0).values\n",
    "y_pred = w0 + X_test.dot(w)\n",
    "score = rmse(y_test, y_pred)\n",
    "score"
   ]
  },
  {
   "cell_type": "code",
   "execution_count": null,
   "id": "c197c258-adf9-4bac-9668-c58c013a6cdb",
   "metadata": {},
   "outputs": [],
   "source": []
  }
 ],
 "metadata": {
  "kernelspec": {
   "display_name": "Python 3 (ipykernel)",
   "language": "python",
   "name": "python3"
  },
  "language_info": {
   "codemirror_mode": {
    "name": "ipython",
    "version": 3
   },
   "file_extension": ".py",
   "mimetype": "text/x-python",
   "name": "python",
   "nbconvert_exporter": "python",
   "pygments_lexer": "ipython3",
   "version": "3.12.4"
  }
 },
 "nbformat": 4,
 "nbformat_minor": 5
}
