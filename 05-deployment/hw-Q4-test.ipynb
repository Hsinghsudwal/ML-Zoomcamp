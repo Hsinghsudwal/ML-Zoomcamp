{
 "cells": [
  {
   "cell_type": "code",
   "execution_count": 1,
   "id": "ccc89ba9-b90e-480f-9b90-205070835a2f",
   "metadata": {},
   "outputs": [],
   "source": [
    "import requests"
   ]
  },
  {
   "cell_type": "code",
   "execution_count": 2,
   "id": "25865c7a-0ab8-42d4-8865-e0b0777ecaae",
   "metadata": {},
   "outputs": [],
   "source": [
    "url = 'http://localhost:9696/predict'"
   ]
  },
  {
   "cell_type": "code",
   "execution_count": 3,
   "id": "699edb18-41bf-4d59-985f-60ed2f92cd23",
   "metadata": {},
   "outputs": [],
   "source": [
    "client = {\"job\": \"student\", \"duration\": 280, \"poutcome\": \"failure\"}"
   ]
  },
  {
   "cell_type": "code",
   "execution_count": 4,
   "id": "b66cb1ca-ff73-40dd-8cea-c7d83ab7c4dc",
   "metadata": {},
   "outputs": [
    {
     "name": "stdout",
     "output_type": "stream",
     "text": [
      "{'churn': False, 'churn_probability': 0.33480703475511053}\n"
     ]
    }
   ],
   "source": [
    "response = requests.post(url, json=client).json()\n",
    "print(response)"
   ]
  },
  {
   "cell_type": "code",
   "execution_count": null,
   "id": "2eb5adde-3032-48a9-8ba2-4a8107e214ef",
   "metadata": {},
   "outputs": [],
   "source": []
  }
 ],
 "metadata": {
  "kernelspec": {
   "display_name": "Python 3 (ipykernel)",
   "language": "python",
   "name": "python3"
  },
  "language_info": {
   "codemirror_mode": {
    "name": "ipython",
    "version": 3
   },
   "file_extension": ".py",
   "mimetype": "text/x-python",
   "name": "python",
   "nbconvert_exporter": "python",
   "pygments_lexer": "ipython3",
   "version": "3.12.4"
  }
 },
 "nbformat": 4,
 "nbformat_minor": 5
}
